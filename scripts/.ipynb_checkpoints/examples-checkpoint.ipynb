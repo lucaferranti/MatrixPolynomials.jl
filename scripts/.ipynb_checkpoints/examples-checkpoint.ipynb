{
 "cells": [
  {
   "cell_type": "code",
   "execution_count": 2,
   "metadata": {},
   "outputs": [],
   "source": [
    "using Revise\n",
    "using MatrixPolynomials\n",
    "using LinearAlgebra"
   ]
  },
  {
   "cell_type": "markdown",
   "metadata": {},
   "source": [
    "## Manipulating polynomials\n",
    "\n",
    "The first thing to do is to define the variable used, this can be done with the `variable` method."
   ]
  },
  {
   "cell_type": "code",
   "execution_count": 3,
   "metadata": {},
   "outputs": [
    {
     "data": {
      "text/plain": [
       "x"
      ]
     },
     "execution_count": 3,
     "metadata": {},
     "output_type": "execute_result"
    }
   ],
   "source": [
    "x = variable(\"x\")"
   ]
  },
  {
   "cell_type": "markdown",
   "metadata": {},
   "source": [
    "Now you can use `x` to create polynomials and perform simple operations."
   ]
  },
  {
   "cell_type": "code",
   "execution_count": 4,
   "metadata": {},
   "outputs": [
    {
     "name": "stdout",
     "output_type": "stream",
     "text": [
      "p1 + p2 = x²+2x+2\n",
      "p1 * p2 = x³+2x²+2x+1\n",
      "p1 ^ 14 = x²⁸+14x²⁷+105x²⁶+546x²⁵+2184x²⁴+7098x²³+19383x²²+45474x²¹+93093x²⁰+168168x¹⁹+270270x¹⁸+388752x¹⁷+502593x¹⁶+585690x¹⁵+616227x¹⁴+585690x¹³+502593x¹²+388752x¹¹+270270x¹⁰+168168x⁹+93093x⁸+45474x⁷+19383x⁶+7098x⁵+2184x⁴+546x³+105x²+14x+1\n"
     ]
    },
    {
     "data": {
      "text/plain": [
       "x²⁸+14x²⁷+105x²⁶+546x²⁵+2184x²⁴+7098x²³+19383x²²+45474x²¹+93093x²⁰+168168x¹⁹+270270x¹⁸+388752x¹⁷+502593x¹⁶+585690x¹⁵+616227x¹⁴+585690x¹³+502593x¹²+388752x¹¹+270270x¹⁰+168168x⁹+93093x⁸+45474x⁷+19383x⁶+7098x⁵+2184x⁴+546x³+105x²+14x+1"
      ]
     },
     "execution_count": 4,
     "metadata": {},
     "output_type": "execute_result"
    }
   ],
   "source": [
    "p1 = x^2+x+1\n",
    "p2 = x+1\n",
    "@show p1+p2\n",
    "@show p1*p2\n",
    "@show p1^14"
   ]
  },
  {
   "cell_type": "markdown",
   "metadata": {},
   "source": [
    " You can also obtain the roots of a polynomial using the `roots` function. Under the hood, this computes the eigenvalues of  the companion matrix"
   ]
  },
  {
   "cell_type": "code",
   "execution_count": 5,
   "metadata": {},
   "outputs": [
    {
     "data": {
      "text/plain": [
       "2-element Array{Complex{Float64},1}:\n",
       " -0.49999999999999994 - 0.8660254037844386im\n",
       " -0.49999999999999994 + 0.8660254037844386im"
      ]
     },
     "execution_count": 5,
     "metadata": {},
     "output_type": "execute_result"
    }
   ],
   "source": [
    "roots(p1)"
   ]
  },
  {
   "cell_type": "code",
   "execution_count": 6,
   "metadata": {},
   "outputs": [
    {
     "data": {
      "text/plain": [
       "x¹⁰-55x⁹+1320x⁸-18150x⁷+157773x⁶-902055x⁵+3416930x⁴-8409500x³+12753576x²-10628640x+3628800"
      ]
     },
     "execution_count": 6,
     "metadata": {},
     "output_type": "execute_result"
    }
   ],
   "source": [
    "w1 = wilkinson(10)"
   ]
  },
  {
   "cell_type": "code",
   "execution_count": 7,
   "metadata": {},
   "outputs": [
    {
     "data": {
      "text/plain": [
       "10-element Array{Float64,1}:\n",
       " 1.0000000000001863\n",
       " 1.999999999994617\n",
       " 3.0000000000629496\n",
       " 3.999999999599464\n",
       " 5.000000001535571\n",
       " 5.999999996337263\n",
       " 7.00000000543617\n",
       " 7.999999995134963\n",
       " 9.000000002399126\n",
       " 9.999999999499739"
      ]
     },
     "execution_count": 7,
     "metadata": {},
     "output_type": "execute_result"
    }
   ],
   "source": [
    "roots(w1)"
   ]
  },
  {
   "cell_type": "markdown",
   "metadata": {},
   "source": [
    "## Polynomial Matrices\n",
    "\n",
    "The julia default Array interface is already very powerful and hence a polynomial matrix is just... well, a matrix of polynomials"
   ]
  },
  {
   "cell_type": "code",
   "execution_count": 8,
   "metadata": {},
   "outputs": [
    {
     "data": {
      "text/plain": [
       "2×2 Array{Pol{Int64},2}:\n",
       " x²+x+1  x-1\n",
       " x²      x"
      ]
     },
     "execution_count": 8,
     "metadata": {},
     "output_type": "execute_result"
    }
   ],
   "source": [
    "M = [x^2+x+1 x-1;\n",
    "     x^2 x]"
   ]
  },
  {
   "cell_type": "code",
   "execution_count": 9,
   "metadata": {},
   "outputs": [
    {
     "data": {
      "text/plain": [
       "2"
      ]
     },
     "execution_count": 9,
     "metadata": {},
     "output_type": "execute_result"
    }
   ],
   "source": [
    "deg(M)"
   ]
  },
  {
   "cell_type": "code",
   "execution_count": 10,
   "metadata": {},
   "outputs": [
    {
     "data": {
      "text/plain": [
       "2×2 Array{Pol{Int64},2}:\n",
       " x²+x+1  -x²+x\n",
       " 1       x"
      ]
     },
     "execution_count": 10,
     "metadata": {},
     "output_type": "execute_result"
    }
   ],
   "source": [
    "rev(M)"
   ]
  },
  {
   "cell_type": "code",
   "execution_count": 16,
   "metadata": {},
   "outputs": [
    {
     "data": {
      "text/plain": [
       "4×4 Array{Pol{Int64},2}:\n",
       " x+1  1   1  -1\n",
       " x    1   0  0\n",
       " -1   0   x  0\n",
       " 0    -1  0  x"
      ]
     },
     "execution_count": 16,
     "metadata": {},
     "output_type": "execute_result"
    }
   ],
   "source": [
    " A, B = toPencil(M)\n",
    "B*x-A"
   ]
  },
  {
   "cell_type": "markdown",
   "metadata": {},
   "source": [
    "## Kronecker canonical form"
   ]
  },
  {
   "cell_type": "markdown",
   "metadata": {},
   "source": [
    "The package offers several functions to construct the Kronecker canonical form in an easy way"
   ]
  },
  {
   "cell_type": "code",
   "execution_count": 23,
   "metadata": {},
   "outputs": [
    {
     "data": {
      "text/plain": [
       "2×3 Array{Pol{Int64},2}:\n",
       " x  -1  0\n",
       " 0  x   -1"
      ]
     },
     "execution_count": 23,
     "metadata": {},
     "output_type": "execute_result"
    }
   ],
   "source": [
    "Jcol = colBlock(2)"
   ]
  },
  {
   "cell_type": "code",
   "execution_count": 24,
   "metadata": {},
   "outputs": [
    {
     "data": {
      "text/plain": [
       "3-element Array{Pol{Int64},1}:\n",
       " 1\n",
       " x\n",
       " x²"
      ]
     },
     "execution_count": 24,
     "metadata": {},
     "output_type": "execute_result"
    }
   ],
   "source": [
    "v = [1,x,x^2]"
   ]
  },
  {
   "cell_type": "code",
   "execution_count": 25,
   "metadata": {},
   "outputs": [
    {
     "data": {
      "text/plain": [
       "2-element Array{Pol{Int64},1}:\n",
       " 0\n",
       " 0"
      ]
     },
     "execution_count": 25,
     "metadata": {},
     "output_type": "execute_result"
    }
   ],
   "source": [
    "Jcol*v"
   ]
  },
  {
   "cell_type": "code",
   "execution_count": 26,
   "metadata": {},
   "outputs": [
    {
     "data": {
      "text/plain": [
       "6×9 Array{Pol{Int64},2}:\n",
       " x  -1  0  0   0   0  0   0   0\n",
       " 0  0   x  -1  0   0  0   0   0\n",
       " 0  0   0  x   -1  0  0   0   0\n",
       " 0  0   0  0   0   x  -1  0   0\n",
       " 0  0   0  0   0   0  x   -1  0\n",
       " 0  0   0  0   0   0  0   x   -1"
      ]
     },
     "execution_count": 26,
     "metadata": {},
     "output_type": "execute_result"
    }
   ],
   "source": [
    "Jcol = colBlock([1,2,3])"
   ]
  },
  {
   "cell_type": "code",
   "execution_count": 27,
   "metadata": {},
   "outputs": [
    {
     "data": {
      "text/plain": [
       "9×6 Array{Pol{Int64},2}:\n",
       " -1  0   0   0   0   0\n",
       " x   0   0   0   0   0\n",
       " 0   -1  0   0   0   0\n",
       " 0   x   -1  0   0   0\n",
       " 0   0   x   0   0   0\n",
       " 0   0   0   -1  0   0\n",
       " 0   0   0   x   -1  0\n",
       " 0   0   0   0   x   -1\n",
       " 0   0   0   0   0   x"
      ]
     },
     "execution_count": 27,
     "metadata": {},
     "output_type": "execute_result"
    }
   ],
   "source": [
    "Jrow = rowBlock([1,2,3])"
   ]
  },
  {
   "cell_type": "code",
   "execution_count": 28,
   "metadata": {},
   "outputs": [
    {
     "data": {
      "text/plain": [
       "6×6 Array{Pol{Int64},2}:\n",
       " -1  0   0   0   0   0\n",
       " 0   -1  0   0   0   0\n",
       " 0   x   -1  0   0   0\n",
       " 0   0   0   -1  0   0\n",
       " 0   0   0   x   -1  0\n",
       " 0   0   0   0   x   -1"
      ]
     },
     "execution_count": 28,
     "metadata": {},
     "output_type": "execute_result"
    }
   ],
   "source": [
    "Jinf = infBlock([1,2,3])"
   ]
  },
  {
   "cell_type": "code",
   "execution_count": 32,
   "metadata": {},
   "outputs": [
    {
     "data": {
      "text/plain": [
       "9×9 Array{Pol{Int64},2}:\n",
       " x-2  0    0    0    0    0    0    0    0\n",
       " -1   x-2  0    0    0    0    0    0    0\n",
       " 0    0    x-2  0    0    0    0    0    0\n",
       " 0    0    -1   x-2  0    0    0    0    0\n",
       " 0    0    0    -1   x-2  0    0    0    0\n",
       " 0    0    0    0    0    x-2  0    0    0\n",
       " 0    0    0    0    0    -1   x-2  0    0\n",
       " 0    0    0    0    0    0    -1   x-2  0\n",
       " 0    0    0    0    0    0    0    -1   x-2"
      ]
     },
     "execution_count": 32,
     "metadata": {},
     "output_type": "execute_result"
    }
   ],
   "source": [
    "J2 = eigBlock(2, [2,3,4])"
   ]
  },
  {
   "cell_type": "code",
   "execution_count": 33,
   "metadata": {},
   "outputs": [
    {
     "data": {
      "text/plain": [
       "30×30 Array{Pol{Int64},2}:\n",
       " x  -1  0  0   0   0  0   0   0   0   …  0    0    0    0    0    0    0\n",
       " 0  0   x  -1  0   0  0   0   0   0      0    0    0    0    0    0    0\n",
       " 0  0   0  x   -1  0  0   0   0   0      0    0    0    0    0    0    0\n",
       " 0  0   0  0   0   x  -1  0   0   0      0    0    0    0    0    0    0\n",
       " 0  0   0  0   0   0  x   -1  0   0      0    0    0    0    0    0    0\n",
       " 0  0   0  0   0   0  0   x   -1  0   …  0    0    0    0    0    0    0\n",
       " 0  0   0  0   0   0  0   0   0   -1     0    0    0    0    0    0    0\n",
       " 0  0   0  0   0   0  0   0   0   x      0    0    0    0    0    0    0\n",
       " 0  0   0  0   0   0  0   0   0   0      0    0    0    0    0    0    0\n",
       " 0  0   0  0   0   0  0   0   0   0      0    0    0    0    0    0    0\n",
       " 0  0   0  0   0   0  0   0   0   0   …  0    0    0    0    0    0    0\n",
       " 0  0   0  0   0   0  0   0   0   0      0    0    0    0    0    0    0\n",
       " 0  0   0  0   0   0  0   0   0   0      0    0    0    0    0    0    0\n",
       " ⋮                 ⋮                  ⋱            ⋮                   \n",
       " 0  0   0  0   0   0  0   0   0   0      0    0    0    0    0    0    0\n",
       " 0  0   0  0   0   0  0   0   0   0      0    0    0    0    0    0    0\n",
       " 0  0   0  0   0   0  0   0   0   0   …  0    0    0    0    0    0    0\n",
       " 0  0   0  0   0   0  0   0   0   0      0    0    0    0    0    0    0\n",
       " 0  0   0  0   0   0  0   0   0   0      0    0    0    0    0    0    0\n",
       " 0  0   0  0   0   0  0   0   0   0      x-2  0    0    0    0    0    0\n",
       " 0  0   0  0   0   0  0   0   0   0      -1   x-2  0    0    0    0    0\n",
       " 0  0   0  0   0   0  0   0   0   0   …  0    -1   x-2  0    0    0    0\n",
       " 0  0   0  0   0   0  0   0   0   0      0    0    0    x-2  0    0    0\n",
       " 0  0   0  0   0   0  0   0   0   0      0    0    0    -1   x-2  0    0\n",
       " 0  0   0  0   0   0  0   0   0   0      0    0    0    0    -1   x-2  0\n",
       " 0  0   0  0   0   0  0   0   0   0      0    0    0    0    0    -1   x-2"
      ]
     },
     "execution_count": 33,
     "metadata": {},
     "output_type": "execute_result"
    }
   ],
   "source": [
    "J = blkdiag([Jcol, Jrow, Jinf, J2])"
   ]
  },
  {
   "cell_type": "code",
   "execution_count": 35,
   "metadata": {},
   "outputs": [
    {
     "data": {
      "text/plain": [
       "19-element Array{Float64,1}:\n",
       "  0.0\n",
       "  0.0\n",
       "  0.0\n",
       "  0.0\n",
       "  2.0\n",
       "  2.0\n",
       "  2.0\n",
       "  2.0\n",
       "  2.0\n",
       "  2.0\n",
       "  2.0\n",
       "  2.0\n",
       "  2.0\n",
       " Inf\n",
       " Inf\n",
       " Inf\n",
       " Inf\n",
       " Inf\n",
       " Inf"
      ]
     },
     "execution_count": 35,
     "metadata": {},
     "output_type": "execute_result"
    }
   ],
   "source": [
    "A, B = toPencil(J)\n",
    "ev = eigvals(A, B)\n",
    "filter!(x -> !isnan(x), ev)"
   ]
  },
  {
   "cell_type": "code",
   "execution_count": 39,
   "metadata": {},
   "outputs": [
    {
     "data": {
      "text/plain": [
       "15-element Array{Complex{Float64},1}:\n",
       " 1.9998582091268957 + 0.0im\n",
       " 1.9999928327166137 + 0.0im\n",
       " 1.9999999739731202 + 0.0im\n",
       "  2.000000008844465 - 0.00014178203085281089im\n",
       " 2.0000000088444656 + 0.00014178203085281089im\n",
       " 2.0000000260268846 + 0.0im\n",
       "  2.000003583641695 + 6.207147887428449e-6im\n",
       " 2.0000035836416954 - 6.207147887428449e-6im\n",
       "  2.000141773184181 + 0.0im\n",
       "                Inf + 0.0im\n",
       "                Inf + 0.0im\n",
       "                Inf + 0.0im\n",
       "                Inf + 0.0im\n",
       "                Inf + 0.0im\n",
       "                Inf + 0.0im"
      ]
     },
     "execution_count": 39,
     "metadata": {},
     "output_type": "execute_result"
    }
   ],
   "source": [
    "eig(J,1e-10)"
   ]
  },
  {
   "cell_type": "code",
   "execution_count": 40,
   "metadata": {},
   "outputs": [
    {
     "data": {
      "text/plain": [
       "1.8204962647879581"
      ]
     },
     "execution_count": 40,
     "metadata": {},
     "output_type": "execute_result"
    }
   ],
   "source": [
    "P = rand(size(J)...)\n",
    "det(P)"
   ]
  },
  {
   "cell_type": "code",
   "execution_count": 41,
   "metadata": {},
   "outputs": [
    {
     "data": {
      "text/plain": [
       "16.181952784973415"
      ]
     },
     "execution_count": 41,
     "metadata": {},
     "output_type": "execute_result"
    }
   ],
   "source": [
    "Q = rand(size(J)...)\n",
    "det(Q)"
   ]
  },
  {
   "cell_type": "code",
   "execution_count": 42,
   "metadata": {},
   "outputs": [
    {
     "data": {
      "text/plain": [
       "30×30 Array{Pol{Float64},2}:\n",
       " 7.6434349676953754x-11.762508538209389  …  4.348692028818432x-8.762164434546369\n",
       " 8.02684011842921x-14.799737797981447       5.273600462861027x-10.095663107024455\n",
       " 6.98576758453725x-10.687375225789976       4.798584100610908x-9.393368828202773\n",
       " 8.385470700368362x-13.731543669014856      5.805091356480152x-11.757679199473396\n",
       " 6.923787229506581x-10.893299342046241      4.520003229018526x-9.129454495339619\n",
       " 7.204496280929063x-12.0146309889824     …  5.045265935846813x-10.387857566305556\n",
       " 6.79523027579714x-13.731726251706483       4.755059057807801x-10.398128162819736\n",
       " 7.632716377949675x-11.66068030383875       5.268744488456588x-9.761629594499796\n",
       " 7.290624056137725x-13.7833426025716        5.936377087332293x-10.092278587825215\n",
       " 5.610204809061332x-9.579411296620725       3.516752485351057x-6.843968955111164\n",
       " 8.013323784716095x-13.14418922706082    …  5.60482853508906x-9.09820694640454\n",
       " 6.762541590401692x-10.32363297916931       5.153804164427648x-8.772789685900744\n",
       " 7.407253721655678x-11.345240982884842      4.30696433030504x-8.997416612062919\n",
       " ⋮                                       ⋱  \n",
       " 7.905527383887413x-14.565914302808721      4.2979955326770956x-9.776474931722476\n",
       " 7.777566611967853x-11.838032910131         5.5932035732541765x-9.806535631689517\n",
       " 8.384144397396108x-11.225388455159024   …  5.562754823127606x-9.052274767906598\n",
       " 5.425807074445344x-10.290484809385735      4.1347851195872956x-8.483380725896199\n",
       " 10.11312351543919x-12.637987000964973      6.865268241754991x-10.570969662126789\n",
       " 7.900461632452107x-12.704854341682676      5.916210805476843x-8.3412267388485\n",
       " 8.018840025445312x-11.856800889798766      6.148341753815717x-8.54899596233941\n",
       " 10.35528903985161x-14.192713310186331   …  6.883514843589512x-9.768468517971202\n",
       " 8.58256102566389x-13.729498326340241       5.985398332788931x-10.295191539053246\n",
       " 7.327902769932076x-11.551518106401751      4.232922456553239x-8.044298938491284\n",
       " 8.11237011037337x-12.232368838407025       4.652024900726557x-9.336084219439023\n",
       " 6.315320394893474x-9.797098542933288       5.384962540350227x-8.739481268398569"
      ]
     },
     "execution_count": 42,
     "metadata": {},
     "output_type": "execute_result"
    }
   ],
   "source": [
    "M = P*J*Q"
   ]
  },
  {
   "cell_type": "code",
   "execution_count": 43,
   "metadata": {},
   "outputs": [
    {
     "data": {
      "text/plain": [
       "([11.762508538209389 8.30393427744913 … 8.616181860511333 8.762164434546369; 14.799737797981447 10.265735389094786 … 11.772392643149882 10.095663107024455; … ; 12.232368838407025 7.182276661040116 … 9.390585748835612 9.336084219439023; 9.797098542933288 7.582306416611417 … 8.098059761701997 8.739481268398569], [7.6434349676953754 5.320507639521823 … 6.361631834732967 4.348692028818432; 8.02684011842921 6.291135969073726 … 7.310294665700485 5.273600462861027; … ; 8.11237011037337 4.830141338410813 … 6.07214948540094 4.652024900726557; 6.315320394893474 4.940561280194537 … 5.63103564586567 5.384962540350227])"
      ]
     },
     "execution_count": 43,
     "metadata": {},
     "output_type": "execute_result"
    }
   ],
   "source": [
    "A, B = toPencil(M)"
   ]
  },
  {
   "cell_type": "code",
   "execution_count": 44,
   "metadata": {},
   "outputs": [
    {
     "data": {
      "text/plain": [
       "30-element Array{Complex{Float64},1}:\n",
       " -4.5789735638721466e7 + 0.0im\n",
       "   -10150.759046478852 + 0.0im\n",
       "     -8.40345294170058 + 0.0im\n",
       "   -1.9421432724727892 + 1.262817936824998im\n",
       "   -1.9421432724727887 - 1.262817936824998im\n",
       "   -0.5123694944811711 + 0.0im\n",
       "  -0.11742549075642011 - 1.7823067636379362im\n",
       "  -0.11742549075642011 + 1.782306763637936im\n",
       "   -0.0356336080876175 + 0.0im\n",
       "   0.41503464731577855 - 1.2370172836724544im\n",
       "   0.41503464731577855 + 1.2370172836724544im\n",
       "    0.7220298132098822 - 0.6642066410036458im\n",
       "    0.7220298132098822 + 0.6642066410036458im\n",
       "                       ⋮\n",
       "    1.9999998275374027 + 0.0im\n",
       "     2.000000172462624 + 0.0im\n",
       "     2.000001960488795 - 0.0002598230896888647im\n",
       "     2.000001960488795 + 0.0002598230896888647im\n",
       "    2.0000765564875334 + 0.0im\n",
       "     2.000257743336861 + 0.0im\n",
       "     3.937940052703599 + 0.0im\n",
       "     868.5143473496419 + 0.0im\n",
       "     4641.142226926258 - 8569.501622037069im\n",
       "     4641.142226926259 + 8569.501622037069im\n",
       "   4.578998677223983e7 + 0.0im\n",
       "                   Inf + NaN*im"
      ]
     },
     "execution_count": 44,
     "metadata": {},
     "output_type": "execute_result"
    }
   ],
   "source": [
    "eigvals(A, B)"
   ]
  },
  {
   "cell_type": "code",
   "execution_count": 51,
   "metadata": {},
   "outputs": [
    {
     "data": {
      "text/plain": [
       "15-element Array{Complex{Float64},1}:\n",
       " 1.9993067250458125 + 0.0im\n",
       " 1.9999862876119257 - 2.375742388693077e-5im\n",
       " 1.9999862876119257 + 2.3757423886930767e-5im\n",
       " 1.9999994863418498 - 0.000693788570177167im\n",
       " 1.9999994863418498 + 0.000693788570177167im\n",
       " 1.9999997269486731 + 0.0im\n",
       " 2.0000002730524677 + 0.0im\n",
       "  2.000027424775146 + 0.0im\n",
       "  2.000694302269485 + 0.0im\n",
       "                Inf + 0.0im\n",
       "                Inf + 0.0im\n",
       "                Inf + 0.0im\n",
       "                Inf + 0.0im\n",
       "                Inf + 0.0im\n",
       "                Inf + 0.0im"
      ]
     },
     "execution_count": 51,
     "metadata": {},
     "output_type": "execute_result"
    }
   ],
   "source": [
    "eig(M, 1e-10)"
   ]
  },
  {
   "cell_type": "code",
   "execution_count": 52,
   "metadata": {},
   "outputs": [
    {
     "data": {
      "text/plain": [
       "3×3 Array{Pol{Int64},2}:\n",
       " x²  1  0\n",
       " 0   0  0\n",
       " 0   0  x"
      ]
     },
     "execution_count": 52,
     "metadata": {},
     "output_type": "execute_result"
    }
   ],
   "source": [
    "M = [x^2 1 0;0 0 0;0 0 x]"
   ]
  },
  {
   "cell_type": "code",
   "execution_count": 53,
   "metadata": {},
   "outputs": [
    {
     "data": {
      "text/plain": [
       "([0 0 … -1 0; 0 0 … 0 0; … ; 0 1 … 0 0; 0 0 … 0 0], [1 0 … 0 0; 0 0 … 0 0; … ; 0 0 … 1 0; 0 0 … 0 1])"
      ]
     },
     "execution_count": 53,
     "metadata": {},
     "output_type": "execute_result"
    }
   ],
   "source": [
    "A, B = toPencil(M)"
   ]
  },
  {
   "cell_type": "code",
   "execution_count": 54,
   "metadata": {},
   "outputs": [
    {
     "data": {
      "text/plain": [
       "6-element Array{Float64,1}:\n",
       " -Inf\n",
       " -Inf\n",
       "   0.0\n",
       "  Inf\n",
       "  Inf\n",
       " NaN"
      ]
     },
     "execution_count": 54,
     "metadata": {},
     "output_type": "execute_result"
    }
   ],
   "source": [
    "eigvals(A, B)"
   ]
  },
  {
   "cell_type": "code",
   "execution_count": 55,
   "metadata": {},
   "outputs": [
    {
     "data": {
      "text/plain": [
       "2-element Array{Float64,1}:\n",
       "  0.0\n",
       " Inf"
      ]
     },
     "execution_count": 55,
     "metadata": {},
     "output_type": "execute_result"
    }
   ],
   "source": [
    "eig(M, 1e-10)"
   ]
  },
  {
   "cell_type": "code",
   "execution_count": 56,
   "metadata": {},
   "outputs": [
    {
     "data": {
      "text/plain": [
       "1-element Array{Int64,1}:\n",
       " 2"
      ]
     },
     "execution_count": 56,
     "metadata": {},
     "output_type": "execute_result"
    }
   ],
   "source": [
    "colIndices(M, 1e-10)"
   ]
  },
  {
   "cell_type": "code",
   "execution_count": 57,
   "metadata": {},
   "outputs": [
    {
     "data": {
      "text/plain": [
       "1-element Array{Int64,1}:\n",
       " 0"
      ]
     },
     "execution_count": 57,
     "metadata": {},
     "output_type": "execute_result"
    }
   ],
   "source": [
    "rowIndices(M, 1e-10)"
   ]
  },
  {
   "cell_type": "code",
   "execution_count": null,
   "metadata": {},
   "outputs": [],
   "source": []
  }
 ],
 "metadata": {
  "kernelspec": {
   "display_name": "Julia 1.5.0",
   "language": "julia",
   "name": "julia-1.5"
  },
  "language_info": {
   "file_extension": ".jl",
   "mimetype": "application/julia",
   "name": "julia",
   "version": "1.5.0"
  }
 },
 "nbformat": 4,
 "nbformat_minor": 4
}
