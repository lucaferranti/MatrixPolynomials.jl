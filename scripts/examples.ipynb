{
 "cells": [
  {
   "cell_type": "code",
   "execution_count": 1,
   "metadata": {},
   "outputs": [],
   "source": [
    "using Revise\n",
    "using MatrixPolynomials\n",
    "using LinearAlgebra"
   ]
  },
  {
   "cell_type": "markdown",
   "metadata": {},
   "source": [
    "## Manipulating polynomials\n",
    "\n",
    "The first thing to do is to define the variable used, this can be done with the `variable` method."
   ]
  },
  {
   "cell_type": "code",
   "execution_count": 2,
   "metadata": {},
   "outputs": [
    {
     "data": {
      "text/plain": [
       "x"
      ]
     },
     "execution_count": 2,
     "metadata": {},
     "output_type": "execute_result"
    }
   ],
   "source": [
    "x = variable(\"x\")"
   ]
  },
  {
   "cell_type": "markdown",
   "metadata": {},
   "source": [
    "Now you can use `x` to create polynomials and perform simple operations."
   ]
  },
  {
   "cell_type": "code",
   "execution_count": 40,
   "metadata": {},
   "outputs": [
    {
     "name": "stdout",
     "output_type": "stream",
     "text": [
      "p1 + p2 = x²+2x+2\n",
      "p1 * p2 = x³+2x²+2x+1\n",
      "  0.000015 seconds (9 allocations: 2.375 KiB)\n"
     ]
    },
    {
     "data": {
      "text/plain": [
       "x⁴⁰+20x³⁹+210x³⁸+1520x³⁷+8455x³⁶+38304x³⁵+146490x³⁴+484500x³³+1409895x³²+3656360x³¹+8533660x³⁰+18062160x²⁹+34880770x²⁸+61757600x²⁷+100640340x²⁶+151419816x²⁵+210859245x²⁴+272290140x²³+326527350x²²+363985680x²¹+377379369x²⁰+363985680x¹⁹+326527350x¹⁸+272290140x¹⁷+210859245x¹⁶+151419816x¹⁵+100640340x¹⁴+61757600x¹³+34880770x¹²+18062160x¹¹+8533660x¹⁰+3656360x⁹+1409895x⁸+484500x⁷+146490x⁶+38304x⁵+8455x⁴+1520x³+210x²+20x+1"
      ]
     },
     "execution_count": 40,
     "metadata": {},
     "output_type": "execute_result"
    }
   ],
   "source": [
    "p1 = x^2+x+1\n",
    "p2 = x+1\n",
    "@show p1+p2\n",
    "@show p1*p2\n",
    "@time p1^20"
   ]
  },
  {
   "cell_type": "markdown",
   "metadata": {},
   "source": [
    " You can also obtain the roots of a polynomial using the `roots` function. Under the hood, this computes the eigenvalues of  the companion matrix"
   ]
  },
  {
   "cell_type": "code",
   "execution_count": 42,
   "metadata": {},
   "outputs": [
    {
     "data": {
      "text/plain": [
       "2-element Array{Complex{Float64},1}:\n",
       " -0.49999999999999994 - 0.8660254037844386im\n",
       " -0.49999999999999994 + 0.8660254037844386im"
      ]
     },
     "execution_count": 42,
     "metadata": {},
     "output_type": "execute_result"
    }
   ],
   "source": [
    "rts = roots(p1)"
   ]
  },
  {
   "cell_type": "code",
   "execution_count": 44,
   "metadata": {},
   "outputs": [
    {
     "data": {
      "text/plain": [
       "1.1102230246251565e-16 + 5.551115123125783e-17im"
      ]
     },
     "execution_count": 44,
     "metadata": {},
     "output_type": "execute_result"
    }
   ],
   "source": [
    "subs(p1, rts[2])"
   ]
  },
  {
   "cell_type": "code",
   "execution_count": null,
   "metadata": {},
   "outputs": [],
   "source": []
  },
  {
   "cell_type": "code",
   "execution_count": 58,
   "metadata": {},
   "outputs": [
    {
     "data": {
      "text/plain": [
       "x²⁰-210x¹⁹+20615x¹⁸-1256850x¹⁷+53327946x¹⁶-1672280820x¹⁵+40171771630x¹⁴-756111184500x¹³+11310276995381x¹²-135585182899530x¹¹+1307535010540395x¹⁰-10142299865511450x⁹+63030812099294896x⁸-311333643161390640x⁷+1206647803780373360x⁶-3599979517947607200x⁵+8037811822645051776x⁴+5575812828558562816x³-4642984320068847616x²-8752948036761600000x+2432902008176640000"
      ]
     },
     "execution_count": 58,
     "metadata": {},
     "output_type": "execute_result"
    }
   ],
   "source": [
    "w1 = wilkinson(20)"
   ]
  },
  {
   "cell_type": "code",
   "execution_count": 60,
   "metadata": {},
   "outputs": [
    {
     "data": {
      "text/plain": [
       "20-element Array{Complex{Float64},1}:\n",
       " -0.9923008314173862 - 5.015979386435323im\n",
       " -0.9923008314173862 + 5.015979386435323im\n",
       " -0.7889851449338269 - 0.5502464581926152im\n",
       " -0.7889851449338269 + 0.5502464581926152im\n",
       " 0.25728573558269613 + 0.0im\n",
       "  1.0000000000000093 + 0.0im\n",
       "  1.6299550165154835 - 8.866884697300247im\n",
       "  1.6299550165154835 + 8.866884697300247im\n",
       "    5.80315059108361 - 11.614238602667399im\n",
       "    5.80315059108361 + 11.614238602667399im\n",
       "  10.869563214194404 - 12.844373452119767im\n",
       "  10.869563214194404 + 12.844373452119767im\n",
       "  16.128220489539114 - 12.36302421903679im\n",
       "  16.128220489539114 + 12.36302421903679im\n",
       "  20.871255085482538 - 10.225996023991778im\n",
       "  20.871255085482538 + 10.225996023991778im\n",
       "    24.4583395523078 - 6.7265706693493525im\n",
       "    24.4583395523078 + 6.7265706693493525im\n",
       "  26.392159159436957 - 2.3433196623813783im\n",
       "  26.392159159436957 + 2.3433196623813783im"
      ]
     },
     "execution_count": 60,
     "metadata": {},
     "output_type": "execute_result"
    }
   ],
   "source": [
    "roots(w1)"
   ]
  },
  {
   "cell_type": "code",
   "execution_count": 65,
   "metadata": {},
   "outputs": [
    {
     "data": {
      "text/plain": [
       "x+1.0000000000000002"
      ]
     },
     "execution_count": 65,
     "metadata": {},
     "output_type": "execute_result"
    }
   ],
   "source": [
    "gcd(x+1+eps(), (x+1)^2)"
   ]
  },
  {
   "cell_type": "code",
   "execution_count": 68,
   "metadata": {},
   "outputs": [
    {
     "data": {
      "text/plain": [
       "y"
      ]
     },
     "execution_count": 68,
     "metadata": {},
     "output_type": "execute_result"
    }
   ],
   "source": [
    "y = variable(\"y\", BigInt)"
   ]
  },
  {
   "cell_type": "code",
   "execution_count": 71,
   "metadata": {},
   "outputs": [
    {
     "data": {
      "text/plain": [
       "Pol{BigFloat}"
      ]
     },
     "execution_count": 71,
     "metadata": {},
     "output_type": "execute_result"
    }
   ],
   "source": [
    "typeof(gcd(y+1+eps(), (y+1)^2))"
   ]
  },
  {
   "cell_type": "code",
   "execution_count": 74,
   "metadata": {},
   "outputs": [
    {
     "data": {
      "text/plain": [
       "x"
      ]
     },
     "execution_count": 74,
     "metadata": {},
     "output_type": "execute_result"
    }
   ],
   "source": [
    "x = variable(\"x\")\n",
    "typeof(x)"
   ]
  },
  {
   "cell_type": "markdown",
   "metadata": {},
   "source": [
    "## Polynomial Matrices\n",
    "\n",
    "The julia default Array interface is already very powerful and hence a polynomial matrix is just... well, a matrix of polynomials"
   ]
  },
  {
   "cell_type": "code",
   "execution_count": 78,
   "metadata": {},
   "outputs": [
    {
     "data": {
      "text/plain": [
       "2×2 Array{Pol{Int64},2}:\n",
       " x²+x+1  x-1\n",
       " x²      x"
      ]
     },
     "execution_count": 78,
     "metadata": {},
     "output_type": "execute_result"
    }
   ],
   "source": [
    "M = [x^2+x+1 x-1;\n",
    "     x^2 x]"
   ]
  },
  {
   "cell_type": "code",
   "execution_count": 8,
   "metadata": {},
   "outputs": [
    {
     "data": {
      "text/plain": [
       "2"
      ]
     },
     "execution_count": 8,
     "metadata": {},
     "output_type": "execute_result"
    }
   ],
   "source": [
    "deg(M)"
   ]
  },
  {
   "cell_type": "code",
   "execution_count": 76,
   "metadata": {},
   "outputs": [
    {
     "data": {
      "text/plain": [
       "2×2 Array{Pol{Int64},2}:\n",
       " 2x²+x+1  -x²+x\n",
       " 1        x"
      ]
     },
     "execution_count": 76,
     "metadata": {},
     "output_type": "execute_result"
    }
   ],
   "source": [
    "M1 = [x^2+x+2 x-1;\n",
    "     x^2 x]\n",
    "rev(M1)"
   ]
  },
  {
   "cell_type": "code",
   "execution_count": 80,
   "metadata": {},
   "outputs": [
    {
     "data": {
      "text/plain": [
       "4×4 Array{Int64,2}:\n",
       " -1  -1  -1  1\n",
       "  0  -1   0  0\n",
       "  1   0   0  0\n",
       "  0   1   0  0"
      ]
     },
     "execution_count": 80,
     "metadata": {},
     "output_type": "execute_result"
    }
   ],
   "source": [
    " A, B = toPencil(M)\n",
    "A"
   ]
  },
  {
   "cell_type": "markdown",
   "metadata": {},
   "source": [
    "## Kronecker canonical form"
   ]
  },
  {
   "cell_type": "markdown",
   "metadata": {},
   "source": [
    "The package offers several functions to construct the Kronecker canonical form in an easy way"
   ]
  },
  {
   "cell_type": "code",
   "execution_count": 81,
   "metadata": {},
   "outputs": [
    {
     "data": {
      "text/plain": [
       "2×3 Array{Pol{Int64},2}:\n",
       " x  -1  0\n",
       " 0  x   -1"
      ]
     },
     "execution_count": 81,
     "metadata": {},
     "output_type": "execute_result"
    }
   ],
   "source": [
    "Jcol = colBlock(2)"
   ]
  },
  {
   "cell_type": "code",
   "execution_count": 82,
   "metadata": {},
   "outputs": [
    {
     "data": {
      "text/plain": [
       "3-element Array{Pol{Int64},1}:\n",
       " 1\n",
       " x\n",
       " x²"
      ]
     },
     "execution_count": 82,
     "metadata": {},
     "output_type": "execute_result"
    }
   ],
   "source": [
    "v = [1,x,x^2]"
   ]
  },
  {
   "cell_type": "code",
   "execution_count": 149,
   "metadata": {},
   "outputs": [
    {
     "data": {
      "text/plain": [
       "0×1 Array{Pol{Int64},2}"
      ]
     },
     "execution_count": 149,
     "metadata": {},
     "output_type": "execute_result"
    }
   ],
   "source": [
    "J0 = zeros(Pol{Int}, 0, 1)"
   ]
  },
  {
   "cell_type": "code",
   "execution_count": 156,
   "metadata": {},
   "outputs": [
    {
     "data": {
      "text/plain": [
       "0×1 Array{Pol{Int64},2}"
      ]
     },
     "execution_count": 156,
     "metadata": {},
     "output_type": "execute_result"
    }
   ],
   "source": []
  },
  {
   "cell_type": "code",
   "execution_count": 84,
   "metadata": {},
   "outputs": [
    {
     "data": {
      "text/plain": [
       "2-element Array{Pol{Int64},1}:\n",
       " 0\n",
       " 0"
      ]
     },
     "execution_count": 84,
     "metadata": {},
     "output_type": "execute_result"
    }
   ],
   "source": [
    "Jcol*v"
   ]
  },
  {
   "cell_type": "code",
   "execution_count": 91,
   "metadata": {},
   "outputs": [
    {
     "data": {
      "text/plain": [
       "6×9 Array{Pol{Int64},2}:\n",
       " x  -1  0  0   0   0  0   0   0\n",
       " 0  0   x  -1  0   0  0   0   0\n",
       " 0  0   0  x   -1  0  0   0   0\n",
       " 0  0   0  0   0   x  -1  0   0\n",
       " 0  0   0  0   0   0  x   -1  0\n",
       " 0  0   0  0   0   0  0   x   -1"
      ]
     },
     "execution_count": 91,
     "metadata": {},
     "output_type": "execute_result"
    }
   ],
   "source": [
    "Jcol = colBlock([1,2,3])"
   ]
  },
  {
   "cell_type": "code",
   "execution_count": null,
   "metadata": {},
   "outputs": [],
   "source": []
  },
  {
   "cell_type": "code",
   "execution_count": 92,
   "metadata": {},
   "outputs": [
    {
     "data": {
      "text/plain": [
       "9×6 Array{Pol{Int64},2}:\n",
       " -1  0   0   0   0   0\n",
       " x   0   0   0   0   0\n",
       " 0   -1  0   0   0   0\n",
       " 0   x   -1  0   0   0\n",
       " 0   0   x   0   0   0\n",
       " 0   0   0   -1  0   0\n",
       " 0   0   0   x   -1  0\n",
       " 0   0   0   0   x   -1\n",
       " 0   0   0   0   0   x"
      ]
     },
     "execution_count": 92,
     "metadata": {},
     "output_type": "execute_result"
    }
   ],
   "source": [
    "Jrow = rowBlock([1,2,3])"
   ]
  },
  {
   "cell_type": "code",
   "execution_count": 93,
   "metadata": {},
   "outputs": [
    {
     "data": {
      "text/plain": [
       "6×6 Array{Pol{Int64},2}:\n",
       " -1  0   0   0   0   0\n",
       " 0   -1  0   0   0   0\n",
       " 0   x   -1  0   0   0\n",
       " 0   0   0   -1  0   0\n",
       " 0   0   0   x   -1  0\n",
       " 0   0   0   0   x   -1"
      ]
     },
     "execution_count": 93,
     "metadata": {},
     "output_type": "execute_result"
    }
   ],
   "source": [
    "Jinf = infBlock([1,2,3])"
   ]
  },
  {
   "cell_type": "code",
   "execution_count": 102,
   "metadata": {},
   "outputs": [
    {
     "data": {
      "text/plain": [
       "8×8 Array{Pol{Int64},2}:\n",
       " x-2  0    0    0    0    0    0    0\n",
       " 0    x-2  0    0    0    0    0    0\n",
       " 0    -1   x-2  0    0    0    0    0\n",
       " 0    0    -1   x-2  0    0    0    0\n",
       " 0    0    0    0    x-2  0    0    0\n",
       " 0    0    0    0    -1   x-2  0    0\n",
       " 0    0    0    0    0    -1   x-2  0\n",
       " 0    0    0    0    0    0    -1   x-2"
      ]
     },
     "execution_count": 102,
     "metadata": {},
     "output_type": "execute_result"
    }
   ],
   "source": [
    "J2 = eigBlock(2, [1,3,4])"
   ]
  },
  {
   "cell_type": "code",
   "execution_count": 103,
   "metadata": {},
   "outputs": [
    {
     "data": {
      "text/plain": [
       "29×29 Array{Pol{Int64},2}:\n",
       " x  -1  0  0   0   0  0   0   0   0   …  0    0    0    0    0    0    0\n",
       " 0  0   x  -1  0   0  0   0   0   0      0    0    0    0    0    0    0\n",
       " 0  0   0  x   -1  0  0   0   0   0      0    0    0    0    0    0    0\n",
       " 0  0   0  0   0   x  -1  0   0   0      0    0    0    0    0    0    0\n",
       " 0  0   0  0   0   0  x   -1  0   0      0    0    0    0    0    0    0\n",
       " 0  0   0  0   0   0  0   x   -1  0   …  0    0    0    0    0    0    0\n",
       " 0  0   0  0   0   0  0   0   0   -1     0    0    0    0    0    0    0\n",
       " 0  0   0  0   0   0  0   0   0   x      0    0    0    0    0    0    0\n",
       " 0  0   0  0   0   0  0   0   0   0      0    0    0    0    0    0    0\n",
       " 0  0   0  0   0   0  0   0   0   0      0    0    0    0    0    0    0\n",
       " 0  0   0  0   0   0  0   0   0   0   …  0    0    0    0    0    0    0\n",
       " 0  0   0  0   0   0  0   0   0   0      0    0    0    0    0    0    0\n",
       " 0  0   0  0   0   0  0   0   0   0      0    0    0    0    0    0    0\n",
       " ⋮                 ⋮                  ⋱                 ⋮              \n",
       " 0  0   0  0   0   0  0   0   0   0      0    0    0    0    0    0    0\n",
       " 0  0   0  0   0   0  0   0   0   0      0    0    0    0    0    0    0\n",
       " 0  0   0  0   0   0  0   0   0   0      0    0    0    0    0    0    0\n",
       " 0  0   0  0   0   0  0   0   0   0   …  0    0    0    0    0    0    0\n",
       " 0  0   0  0   0   0  0   0   0   0      0    0    0    0    0    0    0\n",
       " 0  0   0  0   0   0  0   0   0   0      x-2  0    0    0    0    0    0\n",
       " 0  0   0  0   0   0  0   0   0   0      -1   x-2  0    0    0    0    0\n",
       " 0  0   0  0   0   0  0   0   0   0      0    -1   x-2  0    0    0    0\n",
       " 0  0   0  0   0   0  0   0   0   0   …  0    0    0    x-2  0    0    0\n",
       " 0  0   0  0   0   0  0   0   0   0      0    0    0    -1   x-2  0    0\n",
       " 0  0   0  0   0   0  0   0   0   0      0    0    0    0    -1   x-2  0\n",
       " 0  0   0  0   0   0  0   0   0   0      0    0    0    0    0    -1   x-2"
      ]
     },
     "execution_count": 103,
     "metadata": {},
     "output_type": "execute_result"
    }
   ],
   "source": [
    "J = blkdiag([Jcol, Jrow, Jinf, J2])"
   ]
  },
  {
   "cell_type": "code",
   "execution_count": 104,
   "metadata": {},
   "outputs": [
    {
     "data": {
      "text/plain": [
       "18-element Array{Float64,1}:\n",
       "  0.0\n",
       "  0.0\n",
       "  0.0\n",
       "  0.0\n",
       "  2.0\n",
       "  2.0\n",
       "  2.0\n",
       "  2.0\n",
       "  2.0\n",
       "  2.0\n",
       "  2.0\n",
       "  2.0\n",
       " Inf\n",
       " Inf\n",
       " Inf\n",
       " Inf\n",
       " Inf\n",
       " Inf"
      ]
     },
     "execution_count": 104,
     "metadata": {},
     "output_type": "execute_result"
    }
   ],
   "source": [
    "A, B = toPencil(J)\n",
    "ev = eigvals(A, B)  #Av=λBv\n",
    "filter!(x -> !isnan(x), ev)"
   ]
  },
  {
   "cell_type": "code",
   "execution_count": 105,
   "metadata": {},
   "outputs": [
    {
     "data": {
      "text/plain": [
       "8-element Array{Float64,1}:\n",
       " 0.00011526176730502013\n",
       " 0.00011526176730502013\n",
       " 7.722992184433508e-6\n",
       " 4.440892098500626e-16\n",
       " 7.723020392204219e-6\n",
       " 7.723020392204219e-6\n",
       " 0.00011526717230910591\n",
       " 0.00011526717230910591"
      ]
     },
     "execution_count": 105,
     "metadata": {},
     "output_type": "execute_result"
    }
   ],
   "source": [
    "ev = eig(J, 1e-10)\n",
    "filter!(x -> isfinite(x), ev)\n",
    "abs.(ev .- 2)"
   ]
  },
  {
   "cell_type": "code",
   "execution_count": 130,
   "metadata": {},
   "outputs": [
    {
     "data": {
      "text/plain": [
       "838.6024523498744"
      ]
     },
     "execution_count": 130,
     "metadata": {},
     "output_type": "execute_result"
    }
   ],
   "source": [
    "P = rand(size(J)...)\n",
    "cond(P)"
   ]
  },
  {
   "cell_type": "code",
   "execution_count": 131,
   "metadata": {},
   "outputs": [
    {
     "data": {
      "text/plain": [
       "466.74467498753063"
      ]
     },
     "execution_count": 131,
     "metadata": {},
     "output_type": "execute_result"
    }
   ],
   "source": [
    "Q = rand(size(J)...)\n",
    "cond(Q)"
   ]
  },
  {
   "cell_type": "code",
   "execution_count": 132,
   "metadata": {},
   "outputs": [
    {
     "data": {
      "text/plain": [
       "29×29 Array{Pol{Float64},2}:\n",
       " 4.929598600310388x-10.663495678046964  …  5.471390496627294x-10.155896099269594\n",
       " 4.783333676966002x-8.868965231461647      5.4964593967639175x-9.778978006314444\n",
       " 3.111725835651988x-6.2278796541459505     3.632989317657929x-7.8045497733585\n",
       " 5.641134862846659x-9.552794741764625      5.532432145429974x-11.848187078323852\n",
       " 5.328598111643151x-8.89238311969396       6.353752717265315x-10.3448386506665\n",
       " 4.2084950100544205x-8.862143297144831  …  5.625845190425973x-11.449437226148328\n",
       " 5.479739773920448x-7.862847668462588      6.617532258362102x-9.809012762557538\n",
       " 5.901266049875375x-11.720143894616221     6.931127088368667x-13.1505316342036\n",
       " 5.257283484570026x-9.053089784903817      6.113776220607405x-10.72980457488317\n",
       " 5.32070646357067x-11.706557516010328      5.1628197119047705x-12.071293170334348\n",
       " 5.447266353144579x-9.578555115689367   …  5.528109011283805x-11.954792341837294\n",
       " 4.971113786451572x-5.808784468870957      5.740685638728916x-8.121457907490093\n",
       " 6.521847868447329x-10.876639355401588     6.603591767258328x-12.340771232520847\n",
       " ⋮                                      ⋱  \n",
       " 4.323271871728499x-8.410582309716869      5.698735442927517x-10.314260300518889\n",
       " 5.989597642428866x-9.366405467400465      6.4314235322696325x-11.849557626788023\n",
       " 4.2900179817317925x-9.887609042964593     5.508006418700012x-10.733690120897714\n",
       " 5.100637536132849x-7.427116965115216   …  5.324630533780927x-10.244807289888003\n",
       " 4.879933851841215x-7.613474203591231      6.339042834858073x-10.273453566312966\n",
       " 3.880031870754705x-7.49308437790567       5.313071238026543x-10.994787587717239\n",
       " 4.931931787171957x-7.889591576052625      5.124549054783118x-9.796935954576329\n",
       " 4.5736648765657995x-8.285185952128355     5.300768169006051x-9.001690069762056\n",
       " 5.540904663177922x-8.333511690718424   …  6.018452268228488x-9.998554456326511\n",
       " 4.509053391334263x-8.124367866033166      4.419582373739818x-10.67901629640644\n",
       " 5.03713274061774x-9.424051575278677       6.290410805353661x-10.821922491245612\n",
       " 5.641641248272165x-9.162259911224128      6.527595663926449x-10.989282747526225"
      ]
     },
     "execution_count": 132,
     "metadata": {},
     "output_type": "execute_result"
    }
   ],
   "source": [
    "M = P*J*Q"
   ]
  },
  {
   "cell_type": "code",
   "execution_count": 116,
   "metadata": {},
   "outputs": [
    {
     "data": {
      "text/plain": [
       "([7.0118588981889545 5.931329907025504 … 6.3863889912507 5.569397109441768; 8.776257750576162 9.51739782977685 … 8.588111195356799 7.65093058358569; … ; 9.132531162381795 8.053970035145504 … 9.880183670126678 8.324030258638192; 9.520198714751729 10.100485291334257 … 11.48210675946616 9.018426846026772], [4.5983309048947305 5.274046029374976 … 4.719925552392399 4.052952904973333; 4.572763105818927 5.535410065626525 … 4.958404658942295 3.7451644376058173; … ; 5.062486379105795 5.7343097905728575 … 6.355166555129728 4.762213020424293; 5.0174183221053505 6.149699151777549 … 6.4769516040371 4.375361571338992])"
      ]
     },
     "execution_count": 116,
     "metadata": {},
     "output_type": "execute_result"
    }
   ],
   "source": [
    "A, B = toPencil(M)"
   ]
  },
  {
   "cell_type": "code",
   "execution_count": 135,
   "metadata": {},
   "outputs": [
    {
     "data": {
      "text/plain": [
       "3-element Array{Int64,1}:\n",
       " 1\n",
       " 2\n",
       " 3"
      ]
     },
     "execution_count": 135,
     "metadata": {},
     "output_type": "execute_result"
    }
   ],
   "source": [
    "colIndices(M, 1e-10)\n",
    "rowIndices(M, 1e-10)\n",
    "infMultiplicities(M, 1e-10)"
   ]
  },
  {
   "cell_type": "code",
   "execution_count": 117,
   "metadata": {},
   "outputs": [
    {
     "data": {
      "text/plain": [
       "29-element Array{Complex{Float64},1}:\n",
       "                 -Inf + NaN*im\n",
       "   -57388.95659489477 + 0.0im\n",
       "  -1.3245519395558192 - 0.21942700325678985im\n",
       "  -1.3245519395558192 + 0.21942700325678982im\n",
       " -0.06487475959677005 + 0.0im\n",
       "  0.12041025493839383 + 0.0im\n",
       "  0.16740994269413645 - 0.4630833589885892im\n",
       "  0.16740994269413645 + 0.4630833589885892im\n",
       "   0.2604476490881382 - 3.3066562555542838im\n",
       "   0.2604476490881382 + 3.3066562555542838im\n",
       "   0.2855858249966718 - 1.0808332281909079im\n",
       "   0.2855858249966718 + 1.0808332281909077im\n",
       "   0.8190509523622037 - 0.5670673539502665im\n",
       "                      ⋮\n",
       "   1.9997452417558343 + 0.00025432036868571823im\n",
       "    1.999989070925917 + 1.8938396661033715e-5im\n",
       "   1.9999890709259172 - 1.8938396661033715e-5im\n",
       "   1.9999999999997886 + 0.0im\n",
       "    2.000021858151981 + 0.0im\n",
       "    2.000254758241422 - 0.0002551965018511543im\n",
       "    2.000254758241422 + 0.0002551965018511543im\n",
       "   2.2843820716839196 + 0.0im\n",
       "    28695.25965981085 - 49700.745211798465im\n",
       "    28695.25965981085 + 49700.745211798465im\n",
       "                  Inf + NaN*im\n",
       "                  Inf + NaN*im"
      ]
     },
     "execution_count": 117,
     "metadata": {},
     "output_type": "execute_result"
    }
   ],
   "source": [
    "eigvals(A, B)"
   ]
  },
  {
   "cell_type": "code",
   "execution_count": 119,
   "metadata": {},
   "outputs": [
    {
     "data": {
      "text/plain": [
       "14-element Array{Complex{Float64},1}:\n",
       " 1.9995593499936966 - 0.00044084881997915346im\n",
       " 1.9995593499936966 + 0.0004408488199791534im\n",
       " 1.9999674136270211 - 5.641732236418215e-5im\n",
       " 1.9999674136270211 + 5.641732236418215e-5im\n",
       " 2.0000000000000515 + 0.0im\n",
       " 2.0000651727548524 + 0.0im\n",
       " 2.0004406500043848 + 0.00044045110343495555im\n",
       "  2.000440650004385 - 0.00044045110343495555im\n",
       "                Inf + 0.0im\n",
       "                Inf + 0.0im\n",
       "                Inf + 0.0im\n",
       "                Inf + 0.0im\n",
       "                Inf + 0.0im\n",
       "                Inf + 0.0im"
      ]
     },
     "execution_count": 119,
     "metadata": {},
     "output_type": "execute_result"
    }
   ],
   "source": [
    "ev = eig(M, 1e-10)"
   ]
  },
  {
   "cell_type": "code",
   "execution_count": 125,
   "metadata": {},
   "outputs": [
    {
     "data": {
      "text/plain": [
       "8-element Array{Float64,1}:\n",
       " 0.00062331381352593\n",
       " 0.00062331381352593\n",
       " 6.515202196910046e-5\n",
       " 6.515202196910046e-5\n",
       " 5.1514348342607263e-14\n",
       " 6.517275485240503e-5\n",
       " 0.0006230325841249047\n",
       " 0.0006230325841252188"
      ]
     },
     "execution_count": 125,
     "metadata": {},
     "output_type": "execute_result"
    }
   ],
   "source": [
    "filter!(x -> isfinite(x), ev)\n",
    "abs.(ev .- 2)"
   ]
  },
  {
   "cell_type": "code",
   "execution_count": 136,
   "metadata": {},
   "outputs": [
    {
     "data": {
      "text/plain": [
       "3×3 Array{Pol{Int64},2}:\n",
       " x²  1  0\n",
       " 0   0  0\n",
       " 0   0  x"
      ]
     },
     "execution_count": 136,
     "metadata": {},
     "output_type": "execute_result"
    }
   ],
   "source": [
    "M = [x^2 1 0;0 0 0;0 0 x]"
   ]
  },
  {
   "cell_type": "code",
   "execution_count": 137,
   "metadata": {},
   "outputs": [
    {
     "data": {
      "text/plain": [
       "([0 0 … -1 0; 0 0 … 0 0; … ; 0 1 … 0 0; 0 0 … 0 0], [1 0 … 0 0; 0 0 … 0 0; … ; 0 0 … 1 0; 0 0 … 0 1])"
      ]
     },
     "execution_count": 137,
     "metadata": {},
     "output_type": "execute_result"
    }
   ],
   "source": [
    "A, B = toPencil(M)"
   ]
  },
  {
   "cell_type": "code",
   "execution_count": 138,
   "metadata": {},
   "outputs": [
    {
     "data": {
      "text/plain": [
       "6-element Array{Float64,1}:\n",
       " -Inf\n",
       " -Inf\n",
       "   0.0\n",
       "  Inf\n",
       "  Inf\n",
       " NaN"
      ]
     },
     "execution_count": 138,
     "metadata": {},
     "output_type": "execute_result"
    }
   ],
   "source": [
    "eigvals(A, B)"
   ]
  },
  {
   "cell_type": "code",
   "execution_count": 139,
   "metadata": {},
   "outputs": [
    {
     "data": {
      "text/plain": [
       "2-element Array{Float64,1}:\n",
       "  0.0\n",
       " Inf"
      ]
     },
     "execution_count": 139,
     "metadata": {},
     "output_type": "execute_result"
    }
   ],
   "source": [
    "ev = eig(M, 1e-10)"
   ]
  },
  {
   "cell_type": "code",
   "execution_count": 140,
   "metadata": {},
   "outputs": [
    {
     "data": {
      "text/plain": [
       "1-element Array{Int64,1}:\n",
       " 2"
      ]
     },
     "execution_count": 140,
     "metadata": {},
     "output_type": "execute_result"
    }
   ],
   "source": [
    "colIdx = colIndices(M, 1e-10)"
   ]
  },
  {
   "cell_type": "code",
   "execution_count": 141,
   "metadata": {},
   "outputs": [
    {
     "data": {
      "text/plain": [
       "1-element Array{Int64,1}:\n",
       " 0"
      ]
     },
     "execution_count": 141,
     "metadata": {},
     "output_type": "execute_result"
    }
   ],
   "source": [
    "rowIdx = rowIndices(M, 1e-10)"
   ]
  },
  {
   "cell_type": "code",
   "execution_count": 142,
   "metadata": {},
   "outputs": [
    {
     "data": {
      "text/plain": [
       "true"
      ]
     },
     "execution_count": 142,
     "metadata": {},
     "output_type": "execute_result"
    }
   ],
   "source": [
    "polrank(M)*deg(M) == sum(colIdx)+sum(rowIdx)+length(ev)"
   ]
  },
  {
   "cell_type": "code",
   "execution_count": 160,
   "metadata": {},
   "outputs": [
    {
     "data": {
      "text/plain": [
       "6×6 Array{Pol{Int64},2}:\n",
       " x-2  0    0    0    0    0\n",
       " 0    x-2  0    0    0    0\n",
       " 0    -1   x-2  0    0    0\n",
       " 0    0    0    x-2  0    0\n",
       " 0    0    0    -1   x-2  0\n",
       " 0    0    0    0    -1   x-2"
      ]
     },
     "execution_count": 160,
     "metadata": {},
     "output_type": "execute_result"
    }
   ],
   "source": [
    "M = eigBlock(2, [1,2,3])"
   ]
  },
  {
   "cell_type": "code",
   "execution_count": 161,
   "metadata": {},
   "outputs": [
    {
     "data": {
      "text/plain": [
       "3-element Array{Int64,1}:\n",
       " 1\n",
       " 2\n",
       " 3"
      ]
     },
     "execution_count": 161,
     "metadata": {},
     "output_type": "execute_result"
    }
   ],
   "source": [
    "eigMultiplicities(2, M)"
   ]
  },
  {
   "cell_type": "code",
   "execution_count": null,
   "metadata": {},
   "outputs": [],
   "source": []
  }
 ],
 "metadata": {
  "kernelspec": {
   "display_name": "Julia 1.5.0",
   "language": "julia",
   "name": "julia-1.5"
  },
  "language_info": {
   "file_extension": ".jl",
   "mimetype": "application/julia",
   "name": "julia",
   "version": "1.5.0"
  }
 },
 "nbformat": 4,
 "nbformat_minor": 4
}
